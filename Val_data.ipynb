{
 "cells": [
  {
   "cell_type": "code",
   "execution_count": 1,
   "metadata": {},
   "outputs": [],
   "source": [
    "import wget\n",
    "import os\n",
    "import json"
   ]
  },
  {
   "cell_type": "code",
   "execution_count": 2,
   "metadata": {},
   "outputs": [],
   "source": [
    "kp2017_train_file = 'annotations/person_keypoints_train2017.json'\n",
    "kp2017_val_file = 'annotations/person_keypoints_val2017.json'"
   ]
  },
  {
   "cell_type": "code",
   "execution_count": 4,
   "metadata": {},
   "outputs": [],
   "source": [
    "with open(kp2017_val_file) as file:\n",
    "    data = json.load(file)"
   ]
  },
  {
   "cell_type": "code",
   "execution_count": 5,
   "metadata": {},
   "outputs": [
    {
     "data": {
      "text/plain": [
       "dict_keys(['info', 'licenses', 'images', 'annotations', 'categories'])"
      ]
     },
     "execution_count": 5,
     "metadata": {},
     "output_type": "execute_result"
    }
   ],
   "source": [
    "data.keys()"
   ]
  },
  {
   "cell_type": "code",
   "execution_count": 6,
   "metadata": {},
   "outputs": [],
   "source": [
    "images = data.get('images')"
   ]
  },
  {
   "cell_type": "code",
   "execution_count": 7,
   "metadata": {},
   "outputs": [
    {
     "data": {
      "text/plain": [
       "5000"
      ]
     },
     "execution_count": 7,
     "metadata": {},
     "output_type": "execute_result"
    }
   ],
   "source": [
    "len(images)"
   ]
  },
  {
   "cell_type": "code",
   "execution_count": 8,
   "metadata": {},
   "outputs": [
    {
     "data": {
      "text/plain": [
       "{'license': 4,\n",
       " 'file_name': '000000397133.jpg',\n",
       " 'coco_url': 'http://images.cocodataset.org/val2017/000000397133.jpg',\n",
       " 'height': 427,\n",
       " 'width': 640,\n",
       " 'date_captured': '2013-11-14 17:02:52',\n",
       " 'flickr_url': 'http://farm7.staticflickr.com/6116/6255196340_da26cf2c9e_z.jpg',\n",
       " 'id': 397133}"
      ]
     },
     "execution_count": 8,
     "metadata": {},
     "output_type": "execute_result"
    }
   ],
   "source": [
    "images[0]"
   ]
  },
  {
   "cell_type": "code",
   "execution_count": 9,
   "metadata": {},
   "outputs": [
    {
     "data": {
      "text/plain": [
       "11004"
      ]
     },
     "execution_count": 9,
     "metadata": {},
     "output_type": "execute_result"
    }
   ],
   "source": [
    "anno = data.get('annotations')\n",
    "len(anno)"
   ]
  },
  {
   "cell_type": "code",
   "execution_count": 10,
   "metadata": {},
   "outputs": [
    {
     "data": {
      "text/plain": [
       "{'segmentation': [[125.12,\n",
       "   539.69,\n",
       "   140.94,\n",
       "   522.43,\n",
       "   100.67,\n",
       "   496.54,\n",
       "   84.85,\n",
       "   469.21,\n",
       "   73.35,\n",
       "   450.52,\n",
       "   104.99,\n",
       "   342.65,\n",
       "   168.27,\n",
       "   290.88,\n",
       "   179.78,\n",
       "   288,\n",
       "   189.84,\n",
       "   286.56,\n",
       "   191.28,\n",
       "   260.67,\n",
       "   202.79,\n",
       "   240.54,\n",
       "   221.48,\n",
       "   237.66,\n",
       "   248.81,\n",
       "   243.42,\n",
       "   257.44,\n",
       "   256.36,\n",
       "   253.12,\n",
       "   262.11,\n",
       "   253.12,\n",
       "   275.06,\n",
       "   299.15,\n",
       "   233.35,\n",
       "   329.35,\n",
       "   207.46,\n",
       "   355.24,\n",
       "   206.02,\n",
       "   363.87,\n",
       "   206.02,\n",
       "   365.3,\n",
       "   210.34,\n",
       "   373.93,\n",
       "   221.84,\n",
       "   363.87,\n",
       "   226.16,\n",
       "   363.87,\n",
       "   237.66,\n",
       "   350.92,\n",
       "   237.66,\n",
       "   332.22,\n",
       "   234.79,\n",
       "   314.97,\n",
       "   249.17,\n",
       "   271.82,\n",
       "   313.89,\n",
       "   253.12,\n",
       "   326.83,\n",
       "   227.24,\n",
       "   352.72,\n",
       "   214.29,\n",
       "   357.03,\n",
       "   212.85,\n",
       "   372.85,\n",
       "   208.54,\n",
       "   395.87,\n",
       "   228.67,\n",
       "   414.56,\n",
       "   245.93,\n",
       "   421.75,\n",
       "   266.07,\n",
       "   424.63,\n",
       "   276.13,\n",
       "   437.57,\n",
       "   266.07,\n",
       "   450.52,\n",
       "   284.76,\n",
       "   464.9,\n",
       "   286.2,\n",
       "   479.28,\n",
       "   291.96,\n",
       "   489.35,\n",
       "   310.65,\n",
       "   512.36,\n",
       "   284.76,\n",
       "   549.75,\n",
       "   244.49,\n",
       "   522.43,\n",
       "   215.73,\n",
       "   546.88,\n",
       "   199.91,\n",
       "   558.38,\n",
       "   204.22,\n",
       "   565.57,\n",
       "   189.84,\n",
       "   568.45,\n",
       "   184.09,\n",
       "   575.64,\n",
       "   172.58,\n",
       "   578.52,\n",
       "   145.26,\n",
       "   567.01,\n",
       "   117.93,\n",
       "   551.19,\n",
       "   133.75,\n",
       "   532.49]],\n",
       " 'num_keypoints': 10,\n",
       " 'area': 47803.27955,\n",
       " 'iscrowd': 0,\n",
       " 'keypoints': [0,\n",
       "  0,\n",
       "  0,\n",
       "  0,\n",
       "  0,\n",
       "  0,\n",
       "  0,\n",
       "  0,\n",
       "  0,\n",
       "  0,\n",
       "  0,\n",
       "  0,\n",
       "  0,\n",
       "  0,\n",
       "  0,\n",
       "  142,\n",
       "  309,\n",
       "  1,\n",
       "  177,\n",
       "  320,\n",
       "  2,\n",
       "  191,\n",
       "  398,\n",
       "  2,\n",
       "  237,\n",
       "  317,\n",
       "  2,\n",
       "  233,\n",
       "  426,\n",
       "  2,\n",
       "  306,\n",
       "  233,\n",
       "  2,\n",
       "  92,\n",
       "  452,\n",
       "  2,\n",
       "  123,\n",
       "  468,\n",
       "  2,\n",
       "  0,\n",
       "  0,\n",
       "  0,\n",
       "  251,\n",
       "  469,\n",
       "  2,\n",
       "  0,\n",
       "  0,\n",
       "  0,\n",
       "  162,\n",
       "  551,\n",
       "  2],\n",
       " 'image_id': 425226,\n",
       " 'bbox': [73.35, 206.02, 300.58, 372.5],\n",
       " 'category_id': 1,\n",
       " 'id': 183126}"
      ]
     },
     "execution_count": 10,
     "metadata": {},
     "output_type": "execute_result"
    }
   ],
   "source": [
    "anno[0]"
   ]
  },
  {
   "cell_type": "code",
   "execution_count": 11,
   "metadata": {},
   "outputs": [
    {
     "name": "stdout",
     "output_type": "stream",
     "text": [
      "[{'supercategory': 'person', 'id': 1, 'name': 'person', 'keypoints': ['nose', 'left_eye', 'right_eye', 'left_ear', 'right_ear', 'left_shoulder', 'right_shoulder', 'left_elbow', 'right_elbow', 'left_wrist', 'right_wrist', 'left_hip', 'right_hip', 'left_knee', 'right_knee', 'left_ankle', 'right_ankle'], 'skeleton': [[16, 14], [14, 12], [17, 15], [15, 13], [12, 13], [6, 12], [7, 13], [6, 7], [6, 8], [7, 9], [8, 10], [9, 11], [2, 3], [1, 2], [1, 3], [2, 4], [3, 5], [4, 6], [5, 7]]}]\n"
     ]
    }
   ],
   "source": [
    "categories = data['categories']\n",
    "print(categories)"
   ]
  },
  {
   "cell_type": "code",
   "execution_count": 29,
   "metadata": {},
   "outputs": [],
   "source": [
    "images.sort(key = lambda img:img['id'])\n",
    "anno.sort(key = lambda ann: ann['image_id'])"
   ]
  },
  {
   "cell_type": "code",
   "execution_count": 13,
   "metadata": {},
   "outputs": [
    {
     "name": "stdout",
     "output_type": "stream",
     "text": [
      "139\n",
      "581781\n"
     ]
    }
   ],
   "source": [
    "print(images[0]['id'])\n",
    "print(images[-1]['id'])"
   ]
  },
  {
   "cell_type": "code",
   "execution_count": 14,
   "metadata": {},
   "outputs": [
    {
     "data": {
      "text/plain": [
       "'000000581781 (1).jpg'"
      ]
     },
     "execution_count": 14,
     "metadata": {},
     "output_type": "execute_result"
    }
   ],
   "source": [
    "wget.download(images[-1]['coco_url'])"
   ]
  },
  {
   "cell_type": "code",
   "execution_count": 31,
   "metadata": {},
   "outputs": [
    {
     "name": "stdout",
     "output_type": "stream",
     "text": [
      "139\n",
      "581357\n"
     ]
    }
   ],
   "source": [
    "print(anno[0]['image_id'])\n",
    "print(anno[-1]['image_id'])"
   ]
  },
  {
   "cell_type": "code",
   "execution_count": 36,
   "metadata": {},
   "outputs": [
    {
     "data": {
      "text/plain": [
       "[427,\n",
       " 170,\n",
       " 1,\n",
       " 429,\n",
       " 169,\n",
       " 2,\n",
       " 0,\n",
       " 0,\n",
       " 0,\n",
       " 434,\n",
       " 168,\n",
       " 2,\n",
       " 0,\n",
       " 0,\n",
       " 0,\n",
       " 441,\n",
       " 177,\n",
       " 2,\n",
       " 446,\n",
       " 177,\n",
       " 2,\n",
       " 437,\n",
       " 200,\n",
       " 2,\n",
       " 430,\n",
       " 206,\n",
       " 2,\n",
       " 430,\n",
       " 220,\n",
       " 2,\n",
       " 420,\n",
       " 215,\n",
       " 2,\n",
       " 445,\n",
       " 226,\n",
       " 2,\n",
       " 452,\n",
       " 223,\n",
       " 2,\n",
       " 447,\n",
       " 260,\n",
       " 2,\n",
       " 454,\n",
       " 257,\n",
       " 2,\n",
       " 455,\n",
       " 290,\n",
       " 2,\n",
       " 459,\n",
       " 286,\n",
       " 2]"
      ]
     },
     "execution_count": 36,
     "metadata": {},
     "output_type": "execute_result"
    }
   ],
   "source": [
    "anno[0]['keypoints']"
   ]
  },
  {
   "cell_type": "code",
   "execution_count": 38,
   "metadata": {},
   "outputs": [
    {
     "data": {
      "text/plain": [
       "[{'supercategory': 'person',\n",
       "  'id': 1,\n",
       "  'name': 'person',\n",
       "  'keypoints': ['nose',\n",
       "   'left_eye',\n",
       "   'right_eye',\n",
       "   'left_ear',\n",
       "   'right_ear',\n",
       "   'left_shoulder',\n",
       "   'right_shoulder',\n",
       "   'left_elbow',\n",
       "   'right_elbow',\n",
       "   'left_wrist',\n",
       "   'right_wrist',\n",
       "   'left_hip',\n",
       "   'right_hip',\n",
       "   'left_knee',\n",
       "   'right_knee',\n",
       "   'left_ankle',\n",
       "   'right_ankle'],\n",
       "  'skeleton': [[16, 14],\n",
       "   [14, 12],\n",
       "   [17, 15],\n",
       "   [15, 13],\n",
       "   [12, 13],\n",
       "   [6, 12],\n",
       "   [7, 13],\n",
       "   [6, 7],\n",
       "   [6, 8],\n",
       "   [7, 9],\n",
       "   [8, 10],\n",
       "   [9, 11],\n",
       "   [2, 3],\n",
       "   [1, 2],\n",
       "   [1, 3],\n",
       "   [2, 4],\n",
       "   [3, 5],\n",
       "   [4, 6],\n",
       "   [5, 7]]}]"
      ]
     },
     "execution_count": 38,
     "metadata": {},
     "output_type": "execute_result"
    }
   ],
   "source": [
    "categories"
   ]
  },
  {
   "cell_type": "code",
   "execution_count": 44,
   "metadata": {},
   "outputs": [
    {
     "name": "stdout",
     "output_type": "stream",
     "text": [
      "2251\n",
      "2252\n"
     ]
    }
   ],
   "source": [
    "rand_img = images[1000]\n",
    "for i in range(len(anno)):\n",
    "    if anno[i]['image_id'] == rand_img['id']:\n",
    "        print(i)"
   ]
  },
  {
   "cell_type": "code",
   "execution_count": 30,
   "metadata": {},
   "outputs": [],
   "source": [
    "person_count = {}\n",
    "x = 0\n",
    "y = 0\n",
    "# images and anno are 1 - N relationship\n",
    "count = 0\n",
    "while True:\n",
    "    if images[x]['id'] == anno[y]['image_id']:\n",
    "        count += 1\n",
    "        y += 1\n",
    "    else:\n",
    "        person_count[count] = person_count.get(count, 0) + 1\n",
    "        count = 0\n",
    "        x += 1\n",
    "    if y == len(anno):\n",
    "        person_count[count] = person_count.get(count, 0) + 1\n",
    "        person_count[0] = person_count.get(0, 0) + len(images) - x - 1\n",
    "        break"
   ]
  },
  {
   "cell_type": "code",
   "execution_count": 23,
   "metadata": {},
   "outputs": [],
   "source": [
    "import collections"
   ]
  },
  {
   "cell_type": "code",
   "execution_count": 31,
   "metadata": {},
   "outputs": [
    {
     "data": {
      "text/plain": [
       "OrderedDict([(0, 2307),\n",
       "             (1, 1045),\n",
       "             (2, 436),\n",
       "             (3, 268),\n",
       "             (4, 148),\n",
       "             (5, 119),\n",
       "             (6, 110),\n",
       "             (7, 67),\n",
       "             (8, 37),\n",
       "             (9, 60),\n",
       "             (10, 64),\n",
       "             (11, 44),\n",
       "             (12, 38),\n",
       "             (13, 47),\n",
       "             (14, 210)])"
      ]
     },
     "execution_count": 31,
     "metadata": {},
     "output_type": "execute_result"
    }
   ],
   "source": [
    "person_count = collections.OrderedDict(sorted(person_count.items()))\n",
    "person_count"
   ]
  },
  {
   "cell_type": "code",
   "execution_count": 26,
   "metadata": {},
   "outputs": [],
   "source": [
    "import matplotlib.pyplot as plt"
   ]
  },
  {
   "cell_type": "code",
   "execution_count": 34,
   "metadata": {},
   "outputs": [
    {
     "data": {
      "image/png": "[encoded data removed]",
      "text/plain": [
       "<Figure size 432x288 with 1 Axes>"
      ]
     },
     "metadata": {
      "needs_background": "light"
     },
     "output_type": "display_data"
    }
   ],
   "source": [
    "plt.bar(range(len(person_count)), list(person_count.values()), align='center')\n",
    "plt.xticks(range(len(person_count)), list(person_count.keys()))\n",
    "plt.xlabel('Number of people in an image')\n",
    "plt.ylabel('Number of images')\n",
    "plt.show()"
   ]
  },
  {
   "cell_type": "code",
   "execution_count": 39,
   "metadata": {},
   "outputs": [
    {
     "data": {
      "text/plain": [
       "['nose',\n",
       " 'left_eye',\n",
       " 'right_eye',\n",
       " 'left_ear',\n",
       " 'right_ear',\n",
       " 'left_shoulder',\n",
       " 'right_shoulder',\n",
       " 'left_elbow',\n",
       " 'right_elbow',\n",
       " 'left_wrist',\n",
       " 'right_wrist',\n",
       " 'left_hip',\n",
       " 'right_hip',\n",
       " 'left_knee',\n",
       " 'right_knee',\n",
       " 'left_ankle',\n",
       " 'right_ankle']"
      ]
     },
     "execution_count": 39,
     "metadata": {},
     "output_type": "execute_result"
    }
   ],
   "source": [
    "categories[0]['keypoints']"
   ]
  },
  {
   "cell_type": "code",
   "execution_count": 41,
   "metadata": {},
   "outputs": [],
   "source": [
    "kp_count = {}\n",
    "for i in categories[0]['keypoints']:\n",
    "    kp_count[i] = 0"
   ]
  },
  {
   "cell_type": "code",
   "execution_count": 45,
   "metadata": {},
   "outputs": [],
   "source": [
    "for ann in anno:\n",
    "    # every third element in keypoint array indicates that whether the keypoint is detected or not\n",
    "    # 0, not detected\n",
    "    # 1, detected but obscured\n",
    "    # 2, detected and visible \n",
    "    for i in range(17):\n",
    "        if ann['keypoints'][i * 3 + 2]:\n",
    "            kp_count[categories[0]['keypoints'][i]] += 1"
   ]
  },
  {
   "cell_type": "code",
   "execution_count": 46,
   "metadata": {},
   "outputs": [
    {
     "data": {
      "text/plain": [
       "{'nose': 4268,\n",
       " 'left_eye': 3703,\n",
       " 'right_eye': 3685,\n",
       " 'left_ear': 3185,\n",
       " 'right_ear': 3256,\n",
       " 'left_shoulder': 5501,\n",
       " 'right_shoulder': 5495,\n",
       " 'left_elbow': 4336,\n",
       " 'right_elbow': 4378,\n",
       " 'left_wrist': 3945,\n",
       " 'right_wrist': 4012,\n",
       " 'left_hip': 4755,\n",
       " 'right_hip': 4784,\n",
       " 'left_knee': 3513,\n",
       " 'right_knee': 3500,\n",
       " 'left_ankle': 2957,\n",
       " 'right_ankle': 2942}"
      ]
     },
     "execution_count": 46,
     "metadata": {},
     "output_type": "execute_result"
    }
   ],
   "source": [
    "kp_count"
   ]
  }
 ],
 "metadata": {
  "kernelspec": {
   "display_name": "Python 3",
   "language": "python",
   "name": "python3"
  },
  "language_info": {
   "codemirror_mode": {
    "name": "ipython",
    "version": 3
   },
   "file_extension": ".py",
   "mimetype": "text/x-python",
   "name": "python",
   "nbconvert_exporter": "python",
   "pygments_lexer": "ipython3",
   "version": "3.6.8"
  }
 },
 "nbformat": 4,
 "nbformat_minor": 4
}
